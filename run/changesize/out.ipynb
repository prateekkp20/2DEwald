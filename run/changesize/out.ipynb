{
 "cells": [
  {
   "cell_type": "code",
   "execution_count": 25,
   "metadata": {},
   "outputs": [],
   "source": [
    "import pandas as pd\n",
    "import numpy as np"
   ]
  },
  {
   "cell_type": "code",
   "execution_count": 26,
   "metadata": {},
   "outputs": [
    {
     "data": {
      "text/html": [
       "<div>\n",
       "<style scoped>\n",
       "    .dataframe tbody tr th:only-of-type {\n",
       "        vertical-align: middle;\n",
       "    }\n",
       "\n",
       "    .dataframe tbody tr th {\n",
       "        vertical-align: top;\n",
       "    }\n",
       "\n",
       "    .dataframe thead th {\n",
       "        text-align: right;\n",
       "    }\n",
       "</style>\n",
       "<table border=\"1\" class=\"dataframe\">\n",
       "  <thead>\n",
       "    <tr style=\"text-align: right;\">\n",
       "      <th></th>\n",
       "      <th>File</th>\n",
       "      <th>beta</th>\n",
       "      <th>Lx</th>\n",
       "      <th>Ly</th>\n",
       "      <th>Lz</th>\n",
       "      <th>E_long</th>\n",
       "      <th>E_coul</th>\n",
       "      <th>Total</th>\n",
       "    </tr>\n",
       "  </thead>\n",
       "  <tbody>\n",
       "    <tr>\n",
       "      <th>0</th>\n",
       "      <td>POSCAR1</td>\n",
       "      <td>0.2168</td>\n",
       "      <td>25.0</td>\n",
       "      <td>25.0</td>\n",
       "      <td>25.0</td>\n",
       "      <td>-49618.222718</td>\n",
       "      <td>-111441.610581</td>\n",
       "      <td>-161059.833298</td>\n",
       "    </tr>\n",
       "    <tr>\n",
       "      <th>1</th>\n",
       "      <td>POSCAR2</td>\n",
       "      <td>0.2168</td>\n",
       "      <td>25.0</td>\n",
       "      <td>25.0</td>\n",
       "      <td>35.0</td>\n",
       "      <td>-190792.951295</td>\n",
       "      <td>86467.627094</td>\n",
       "      <td>-104325.324200</td>\n",
       "    </tr>\n",
       "    <tr>\n",
       "      <th>2</th>\n",
       "      <td>POSCAR3</td>\n",
       "      <td>0.2168</td>\n",
       "      <td>25.0</td>\n",
       "      <td>25.0</td>\n",
       "      <td>45.0</td>\n",
       "      <td>-37594.851176</td>\n",
       "      <td>-21249.345736</td>\n",
       "      <td>-58844.196912</td>\n",
       "    </tr>\n",
       "    <tr>\n",
       "      <th>3</th>\n",
       "      <td>POSCAR4</td>\n",
       "      <td>0.2168</td>\n",
       "      <td>25.0</td>\n",
       "      <td>35.0</td>\n",
       "      <td>25.0</td>\n",
       "      <td>-248821.813112</td>\n",
       "      <td>-96593.525198</td>\n",
       "      <td>-345415.338310</td>\n",
       "    </tr>\n",
       "    <tr>\n",
       "      <th>4</th>\n",
       "      <td>POSCAR5</td>\n",
       "      <td>0.2168</td>\n",
       "      <td>25.0</td>\n",
       "      <td>35.0</td>\n",
       "      <td>35.0</td>\n",
       "      <td>-155268.991127</td>\n",
       "      <td>10297.477763</td>\n",
       "      <td>-144971.513364</td>\n",
       "    </tr>\n",
       "  </tbody>\n",
       "</table>\n",
       "</div>"
      ],
      "text/plain": [
       "      File    beta    Lx    Ly    Lz         E_long         E_coul  \\\n",
       "0  POSCAR1  0.2168  25.0  25.0  25.0  -49618.222718 -111441.610581   \n",
       "1  POSCAR2  0.2168  25.0  25.0  35.0 -190792.951295   86467.627094   \n",
       "2  POSCAR3  0.2168  25.0  25.0  45.0  -37594.851176  -21249.345736   \n",
       "3  POSCAR4  0.2168  25.0  35.0  25.0 -248821.813112  -96593.525198   \n",
       "4  POSCAR5  0.2168  25.0  35.0  35.0 -155268.991127   10297.477763   \n",
       "\n",
       "           Total  \n",
       "0 -161059.833298  \n",
       "1 -104325.324200  \n",
       "2  -58844.196912  \n",
       "3 -345415.338310  \n",
       "4 -144971.513364  "
      ]
     },
     "execution_count": 26,
     "metadata": {},
     "output_type": "execute_result"
    }
   ],
   "source": [
    "outC = pd.read_csv(\"outC.csv\")\n",
    "outL = pd.read_csv(\"energy.csv\")\n",
    "outC.head()"
   ]
  },
  {
   "cell_type": "code",
   "execution_count": 28,
   "metadata": {},
   "outputs": [],
   "source": [
    "finalx=pd.DataFrame()\n",
    "\n",
    "finalx.insert(0,\"Total\",abs(outC['Total']-outL['Total'])*4.184)\n",
    "finalx.insert(0,\"E_coul\",abs(outC['E_coul']-outL['Ecoul'])*4.184)\n",
    "finalx.insert(0,\"E_long\",abs(outC['E_long']-outL['Elong'])*4.184)\n",
    "finalx.insert(0,\"Lz\",outC[\"Lz\"])\n",
    "finalx.insert(0,\"Ly\",outC[\"Ly\"])\n",
    "finalx.insert(0,\"Lx\",outC[\"Lx\"])\n",
    "finalx.to_clipboard()"
   ]
  }
 ],
 "metadata": {
  "kernelspec": {
   "display_name": "Python 3",
   "language": "python",
   "name": "python3"
  },
  "language_info": {
   "codemirror_mode": {
    "name": "ipython",
    "version": 3
   },
   "file_extension": ".py",
   "mimetype": "text/x-python",
   "name": "python",
   "nbconvert_exporter": "python",
   "pygments_lexer": "ipython3",
   "version": "3.6.15"
  }
 },
 "nbformat": 4,
 "nbformat_minor": 2
}
