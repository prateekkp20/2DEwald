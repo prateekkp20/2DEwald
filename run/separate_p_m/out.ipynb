{
 "cells": [
  {
   "cell_type": "code",
   "execution_count": 68,
   "metadata": {},
   "outputs": [],
   "source": [
    "import pandas as pd\n",
    "import numpy as np"
   ]
  },
  {
   "cell_type": "code",
   "execution_count": 69,
   "metadata": {},
   "outputs": [
    {
     "data": {
      "text/html": [
       "<div>\n",
       "<style scoped>\n",
       "    .dataframe tbody tr th:only-of-type {\n",
       "        vertical-align: middle;\n",
       "    }\n",
       "\n",
       "    .dataframe tbody tr th {\n",
       "        vertical-align: top;\n",
       "    }\n",
       "\n",
       "    .dataframe thead th {\n",
       "        text-align: right;\n",
       "    }\n",
       "</style>\n",
       "<table border=\"1\" class=\"dataframe\">\n",
       "  <thead>\n",
       "    <tr style=\"text-align: right;\">\n",
       "      <th></th>\n",
       "      <th>File</th>\n",
       "      <th>E_long</th>\n",
       "      <th>E_coul</th>\n",
       "      <th>Total</th>\n",
       "    </tr>\n",
       "  </thead>\n",
       "  <tbody>\n",
       "    <tr>\n",
       "      <th>0</th>\n",
       "      <td>POSCAR1</td>\n",
       "      <td>1.436077e+08</td>\n",
       "      <td>6.969094e+07</td>\n",
       "      <td>2.132986e+08</td>\n",
       "    </tr>\n",
       "    <tr>\n",
       "      <th>1</th>\n",
       "      <td>POSCAR2</td>\n",
       "      <td>1.413200e+08</td>\n",
       "      <td>6.870894e+07</td>\n",
       "      <td>2.100290e+08</td>\n",
       "    </tr>\n",
       "    <tr>\n",
       "      <th>2</th>\n",
       "      <td>POSCAR3</td>\n",
       "      <td>1.430244e+08</td>\n",
       "      <td>6.925380e+07</td>\n",
       "      <td>2.122782e+08</td>\n",
       "    </tr>\n",
       "    <tr>\n",
       "      <th>3</th>\n",
       "      <td>POSCAR4</td>\n",
       "      <td>1.426509e+08</td>\n",
       "      <td>6.944893e+07</td>\n",
       "      <td>2.120999e+08</td>\n",
       "    </tr>\n",
       "  </tbody>\n",
       "</table>\n",
       "</div>"
      ],
      "text/plain": [
       "      File        E_long        E_coul         Total\n",
       "0  POSCAR1  1.436077e+08  6.969094e+07  2.132986e+08\n",
       "1  POSCAR2  1.413200e+08  6.870894e+07  2.100290e+08\n",
       "2  POSCAR3  1.430244e+08  6.925380e+07  2.122782e+08\n",
       "3  POSCAR4  1.426509e+08  6.944893e+07  2.120999e+08"
      ]
     },
     "execution_count": 69,
     "metadata": {},
     "output_type": "execute_result"
    }
   ],
   "source": [
    "xC=pd.read_csv(\"x/out.csv\")\n",
    "xL=pd.read_csv(\"x/energyx.csv\")\n",
    "yC=pd.read_csv(\"y/out.csv\")\n",
    "yL=pd.read_csv(\"y/energyy.csv\")\n",
    "zC=pd.read_csv(\"z/out.csv\")\n",
    "zL=pd.read_csv(\"z/energyz.csv\")\n",
    "xC.head(10)"
   ]
  },
  {
   "cell_type": "code",
   "execution_count": 70,
   "metadata": {},
   "outputs": [
    {
     "data": {
      "text/html": [
       "<div>\n",
       "<style scoped>\n",
       "    .dataframe tbody tr th:only-of-type {\n",
       "        vertical-align: middle;\n",
       "    }\n",
       "\n",
       "    .dataframe tbody tr th {\n",
       "        vertical-align: top;\n",
       "    }\n",
       "\n",
       "    .dataframe thead th {\n",
       "        text-align: right;\n",
       "    }\n",
       "</style>\n",
       "<table border=\"1\" class=\"dataframe\">\n",
       "  <thead>\n",
       "    <tr style=\"text-align: right;\">\n",
       "      <th></th>\n",
       "      <th>Unnamed: 0</th>\n",
       "      <th>Ecoul</th>\n",
       "      <th>Elong</th>\n",
       "      <th>Total</th>\n",
       "    </tr>\n",
       "  </thead>\n",
       "  <tbody>\n",
       "    <tr>\n",
       "      <th>0</th>\n",
       "      <td>0</td>\n",
       "      <td>6.969097e+07</td>\n",
       "      <td>1.436078e+08</td>\n",
       "      <td>2.132987e+08</td>\n",
       "    </tr>\n",
       "    <tr>\n",
       "      <th>1</th>\n",
       "      <td>1</td>\n",
       "      <td>6.870897e+07</td>\n",
       "      <td>1.413202e+08</td>\n",
       "      <td>2.100291e+08</td>\n",
       "    </tr>\n",
       "    <tr>\n",
       "      <th>2</th>\n",
       "      <td>2</td>\n",
       "      <td>6.925382e+07</td>\n",
       "      <td>1.430245e+08</td>\n",
       "      <td>2.122784e+08</td>\n",
       "    </tr>\n",
       "    <tr>\n",
       "      <th>3</th>\n",
       "      <td>3</td>\n",
       "      <td>6.944896e+07</td>\n",
       "      <td>1.426511e+08</td>\n",
       "      <td>2.121000e+08</td>\n",
       "    </tr>\n",
       "  </tbody>\n",
       "</table>\n",
       "</div>"
      ],
      "text/plain": [
       "   Unnamed: 0         Ecoul         Elong         Total\n",
       "0           0  6.969097e+07  1.436078e+08  2.132987e+08\n",
       "1           1  6.870897e+07  1.413202e+08  2.100291e+08\n",
       "2           2  6.925382e+07  1.430245e+08  2.122784e+08\n",
       "3           3  6.944896e+07  1.426511e+08  2.121000e+08"
      ]
     },
     "execution_count": 70,
     "metadata": {},
     "output_type": "execute_result"
    }
   ],
   "source": [
    "xL.head()"
   ]
  },
  {
   "cell_type": "code",
   "execution_count": 71,
   "metadata": {},
   "outputs": [
    {
     "data": {
      "text/html": [
       "<div>\n",
       "<style scoped>\n",
       "    .dataframe tbody tr th:only-of-type {\n",
       "        vertical-align: middle;\n",
       "    }\n",
       "\n",
       "    .dataframe tbody tr th {\n",
       "        vertical-align: top;\n",
       "    }\n",
       "\n",
       "    .dataframe thead th {\n",
       "        text-align: right;\n",
       "    }\n",
       "</style>\n",
       "<table border=\"1\" class=\"dataframe\">\n",
       "  <thead>\n",
       "    <tr style=\"text-align: right;\">\n",
       "      <th></th>\n",
       "      <th>E_long</th>\n",
       "      <th>E_coul</th>\n",
       "      <th>Total</th>\n",
       "    </tr>\n",
       "  </thead>\n",
       "  <tbody>\n",
       "    <tr>\n",
       "      <th>0</th>\n",
       "      <td>506.095298</td>\n",
       "      <td>111.943505</td>\n",
       "      <td>618.038803</td>\n",
       "    </tr>\n",
       "    <tr>\n",
       "      <th>1</th>\n",
       "      <td>512.945203</td>\n",
       "      <td>110.324501</td>\n",
       "      <td>623.269704</td>\n",
       "    </tr>\n",
       "    <tr>\n",
       "      <th>2</th>\n",
       "      <td>515.926690</td>\n",
       "      <td>111.419865</td>\n",
       "      <td>627.346555</td>\n",
       "    </tr>\n",
       "    <tr>\n",
       "      <th>3</th>\n",
       "      <td>505.258045</td>\n",
       "      <td>111.332190</td>\n",
       "      <td>616.590236</td>\n",
       "    </tr>\n",
       "  </tbody>\n",
       "</table>\n",
       "</div>"
      ],
      "text/plain": [
       "       E_long      E_coul       Total\n",
       "0  506.095298  111.943505  618.038803\n",
       "1  512.945203  110.324501  623.269704\n",
       "2  515.926690  111.419865  627.346555\n",
       "3  505.258045  111.332190  616.590236"
      ]
     },
     "execution_count": 71,
     "metadata": {},
     "output_type": "execute_result"
    }
   ],
   "source": [
    "finalx=pd.DataFrame()\n",
    "finaly=pd.DataFrame()\n",
    "finalz=pd.DataFrame()\n",
    "\n",
    "finalx.insert(0,\"Total\",abs(xC['Total']-xL['Total'])*4.184)\n",
    "finalx.insert(0,\"E_coul\",abs(xC['E_coul']-xL['Ecoul'])*4.184)\n",
    "finalx.insert(0,\"E_long\",abs(xC['E_long']-xL['Elong'])*4.184)\n",
    "\n",
    "finaly.insert(0,\"Total\",abs(yC['Total']-yL['Total'])*4.184)\n",
    "finaly.insert(0,\"E_coul\",abs(yC['E_coul']-yL['Ecoul'])*4.184)\n",
    "finaly.insert(0,\"E_long\",abs(yC['E_long']-yL['Elong'])*4.184)\n",
    "\n",
    "finalz.insert(0,\"Total\",abs(zC['Total']-zL['Total'])*4.184)\n",
    "finalz.insert(0,\"E_coul\",abs(zC['E_coul']-zL['Ecoul'])*4.184)\n",
    "finalz.insert(0,\"E_long\",abs(zC['E_long']-zL['Elong'])*4.184)\n",
    "\n",
    "finalx.head()"
   ]
  },
  {
   "cell_type": "code",
   "execution_count": 72,
   "metadata": {},
   "outputs": [
    {
     "data": {
      "text/html": [
       "<div>\n",
       "<style scoped>\n",
       "    .dataframe tbody tr th:only-of-type {\n",
       "        vertical-align: middle;\n",
       "    }\n",
       "\n",
       "    .dataframe tbody tr th {\n",
       "        vertical-align: top;\n",
       "    }\n",
       "\n",
       "    .dataframe thead th {\n",
       "        text-align: right;\n",
       "    }\n",
       "</style>\n",
       "<table border=\"1\" class=\"dataframe\">\n",
       "  <thead>\n",
       "    <tr style=\"text-align: right;\">\n",
       "      <th></th>\n",
       "      <th>E_long</th>\n",
       "      <th>E_coul</th>\n",
       "      <th>Total</th>\n",
       "    </tr>\n",
       "  </thead>\n",
       "  <tbody>\n",
       "    <tr>\n",
       "      <th>0</th>\n",
       "      <td>500.267799</td>\n",
       "      <td>110.510251</td>\n",
       "      <td>610.778050</td>\n",
       "    </tr>\n",
       "    <tr>\n",
       "      <th>1</th>\n",
       "      <td>530.978748</td>\n",
       "      <td>111.011516</td>\n",
       "      <td>641.990264</td>\n",
       "    </tr>\n",
       "    <tr>\n",
       "      <th>2</th>\n",
       "      <td>537.372220</td>\n",
       "      <td>112.144477</td>\n",
       "      <td>649.516697</td>\n",
       "    </tr>\n",
       "    <tr>\n",
       "      <th>3</th>\n",
       "      <td>514.952089</td>\n",
       "      <td>112.118972</td>\n",
       "      <td>627.071061</td>\n",
       "    </tr>\n",
       "  </tbody>\n",
       "</table>\n",
       "</div>"
      ],
      "text/plain": [
       "       E_long      E_coul       Total\n",
       "0  500.267799  110.510251  610.778050\n",
       "1  530.978748  111.011516  641.990264\n",
       "2  537.372220  112.144477  649.516697\n",
       "3  514.952089  112.118972  627.071061"
      ]
     },
     "execution_count": 72,
     "metadata": {},
     "output_type": "execute_result"
    }
   ],
   "source": [
    "finaly.head()"
   ]
  },
  {
   "cell_type": "code",
   "execution_count": 73,
   "metadata": {},
   "outputs": [],
   "source": [
    "finalz.to_clipboard()"
   ]
  }
 ],
 "metadata": {
  "kernelspec": {
   "display_name": "Python 3",
   "language": "python",
   "name": "python3"
  },
  "language_info": {
   "codemirror_mode": {
    "name": "ipython",
    "version": 3
   },
   "file_extension": ".py",
   "mimetype": "text/x-python",
   "name": "python",
   "nbconvert_exporter": "python",
   "pygments_lexer": "ipython3",
   "version": "3.6.15"
  }
 },
 "nbformat": 4,
 "nbformat_minor": 2
}
